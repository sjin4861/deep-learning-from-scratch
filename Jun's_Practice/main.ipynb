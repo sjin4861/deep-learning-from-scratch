{
 "cells": [
  {
   "cell_type": "code",
   "execution_count": 1,
   "metadata": {},
   "outputs": [],
   "source": [
    "from layers import *\n",
    "from utils import *"
   ]
  },
  {
   "cell_type": "code",
   "execution_count": 2,
   "metadata": {},
   "outputs": [],
   "source": [
    "from collections import OrderedDict\n",
    "import numpy as np\n",
    "from dataset import load_mnist"
   ]
  },
  {
   "cell_type": "code",
   "execution_count": 3,
   "metadata": {},
   "outputs": [],
   "source": [
    "class ThreeLayerNet:\n",
    "    def __init__(self, input_size, hidden_size, output_size, std=1e-2):\n",
    "        self.params = {}\n",
    "        self.params['W1'] = std * np.random.randn(input_size, hidden_size[0])\n",
    "        self.params['b1'] = np.zeros(hidden_size[0])\n",
    "        self.params['W2'] = std * np.random.randn(hidden_size[0], hidden_size[1])\n",
    "        self.params['b2'] = np.zeros(hidden_size[1])\n",
    "        self.params['W3'] = std * np.random.randn(hidden_size[1], output_size)\n",
    "        self.params['b3'] = np.zeros(output_size)\n",
    "\n",
    "        self.layers = OrderedDict()\n",
    "        self.layers['Affine1'] = Affine(self.params['W1'], self.params['b1'])\n",
    "        self.layers['Relu1'] = Relu()\n",
    "        self.layers['Affine2'] = Affine(self.params['W2'], self.params['b2'])\n",
    "        self.layers['Sigmoid2'] = Sigmoid()\n",
    "        self.layers['Affine3'] = Affine(self.params['W3'], self.params['b3'])\n",
    "        \n",
    "        self.lastLayer = SoftmaxWithLoss()\n",
    "\n",
    "        self.x_train = None\n",
    "        self.t_train = None\n",
    "\n",
    "    def predict(self, X):\n",
    "        for layer in self.layers.values():\n",
    "            X = layer.forward(X)\n",
    "        return X\n",
    "\n",
    "    def loss(self, X, T):\n",
    "        Y = self.predict(X)\n",
    "        Y, loss = self.lastLayer.forward(Y, T)\n",
    "        return loss\n",
    "    \n",
    "    def gradient(self, X, T):\n",
    "        loss = self.loss(X, T)\n",
    "\n",
    "        dout = 1\n",
    "        dout = self.lastLayer.backward()\n",
    "\n",
    "        layers_reverse = reversed(list(self.layers.values()))\n",
    "\n",
    "        for layer in layers_reverse:\n",
    "            dout = layer.backward(dout)\n",
    "\n",
    "        grads = {}\n",
    "        grads['W1'] = self.layers['Affine1'].dW\n",
    "        grads['b1'] = self.layers['Affine1'].db\n",
    "        grads['W2'] = self.layers['Affine2'].dW\n",
    "        grads['b2'] = self.layers['Affine2'].db\n",
    "        grads['W3'] = self.layers['Affine3'].dW\n",
    "        grads['b3'] = self.layers['Affine3'].db\n",
    "\n",
    "        return grads\n",
    "    \n",
    "    def set_x_train(self, x_train):\n",
    "        self.x_train = x_train\n",
    "    \n",
    "    def set_t_train(self, t_train):\n",
    "        self.t_train = t_train\n",
    "\n",
    "    def train(self, total_steps=10000, learning_rate=0.1, batch_size=100):\n",
    "        train_loss_list = []\n",
    "        train_size = self.x_train.shape[0]\n",
    "        iter_per_epoch = max(train_size / batch_size, 1)\n",
    "\n",
    "        for i in range(total_steps):\n",
    "            batch_mask = np.random.choice(train_size, batch_size)\n",
    "            x_batch = self.x_train[batch_mask]\n",
    "            t_batch = self.t_train[batch_mask]\n",
    "\n",
    "            grad = self.gradient(x_batch, t_batch)\n",
    "\n",
    "            for key in grad.keys():\n",
    "                self.params[key] -= learning_rate * grad[key]\n",
    "\n",
    "            loss = self.loss(x_batch, t_batch)\n",
    "            train_loss_list.append(loss)\n",
    "            \n",
    "            # 출력은 선택\n",
    "            if i % iter_per_epoch == 0:\n",
    "                print('iteration: ', i, 'loss: ', loss)"
   ]
  },
  {
   "cell_type": "code",
   "execution_count": 4,
   "metadata": {},
   "outputs": [],
   "source": [
    "(x_train, t_train), (x_test, t_test) = load_mnist(normalize=True, one_hot_label=True)\n",
    "nn = ThreeLayerNet(input_size=784, hidden_size=[100, 50], output_size=10)"
   ]
  },
  {
   "cell_type": "code",
   "execution_count": 5,
   "metadata": {},
   "outputs": [],
   "source": [
    "total_steps = 10000\n",
    "batch_size = 100\n",
    "learning_rate = 0.1\n",
    "\n",
    "nn.set_x_train(x_train)\n",
    "nn.set_t_train(t_train)"
   ]
  },
  {
   "cell_type": "code",
   "execution_count": 6,
   "metadata": {},
   "outputs": [
    {
     "name": "stdout",
     "output_type": "stream",
     "text": [
      "iteration:  0 loss:  2.291243006900547\n",
      "iteration:  600 loss:  2.301827088860268\n",
      "iteration:  1200 loss:  2.0350310333979307\n",
      "iteration:  1800 loss:  0.8810366766338142\n",
      "iteration:  2400 loss:  0.6507471127372795\n",
      "iteration:  3000 loss:  0.40934238061939604\n",
      "iteration:  3600 loss:  0.37111665449854486\n",
      "iteration:  4200 loss:  0.2178531731882485\n",
      "iteration:  4800 loss:  0.29866564339653917\n",
      "iteration:  5400 loss:  0.15465187826930482\n",
      "iteration:  6000 loss:  0.21691496560235682\n",
      "iteration:  6600 loss:  0.21520868194876158\n",
      "iteration:  7200 loss:  0.11198845923613668\n",
      "iteration:  7800 loss:  0.05734554863076653\n",
      "iteration:  8400 loss:  0.1440885561796086\n",
      "iteration:  9000 loss:  0.03214058959136496\n",
      "iteration:  9600 loss:  0.04976254966604356\n"
     ]
    }
   ],
   "source": [
    "nn.train(total_steps=total_steps, learning_rate=learning_rate, batch_size=100)"
   ]
  },
  {
   "cell_type": "code",
   "execution_count": 12,
   "metadata": {},
   "outputs": [],
   "source": [
    "class SimpleCNN:\n",
    "    def __init__(self, input_dim=(1, 28, 28), \n",
    "                 conv_param={'filter_num':30, 'filter_size':5, 'pad':0, 'stride':1},\n",
    "                 hidden_size=100, output_size=10, weight_init_std=0.01):\n",
    "        filter_num = conv_param['filter_num']\n",
    "        filter_size = conv_param['filter_size']\n",
    "        filter_pad = conv_param['pad']\n",
    "        filter_stride = conv_param['stride']\n",
    "        input_size = input_dim[1]\n",
    "        conv_output_size = (input_size - filter_size + 2 * filter_pad) / filter_stride + 1\n",
    "        pool_output_size = int(filter_num * (conv_output_size / 2) * (conv_output_size / 2))\n",
    "\n",
    "        self.params = {}\n",
    "        self.params['W1'] = weight_init_std * np.random.randn(filter_num, input_dim[0], filter_size, filter_size)\n",
    "        self.params['b1'] = np.zeros(filter_num)\n",
    "        self.params['W2'] = weight_init_std * np.random.randn(pool_output_size, hidden_size)\n",
    "        self.params['b2'] = np.zeros(hidden_size)\n",
    "        self.params['W3'] = weight_init_std * np.random.randn(hidden_size, output_size)\n",
    "        self.params['b3'] = np.zeros(output_size)\n",
    "\n",
    "        self.layers = OrderedDict()\n",
    "        self.layers['Conv1'] = Convolution(W = self.params['W1'], b = self.params['b1'], stride = filter_stride, pad = filter_pad)\n",
    "        self.layers['Relu1'] = Relu()\n",
    "        self.layers['Pooling1'] = Pooling(pool_h=2, pool_w=2, stride=2)\n",
    "        self.layers['Affine1'] = Affine(W = self.params['W2'], b = self.params['b2'])\n",
    "        self.layers['Relu2'] = Relu()\n",
    "        self.layers['Affine2'] = Affine(W = self.params['W3'], b = self.params['b3'])\n",
    "\n",
    "        self.lastLayer = SoftmaxWithLoss()\n",
    "\n",
    "    def predict(self, X):\n",
    "        for layer in self.layers.values():\n",
    "            X = layer.forward(X)\n",
    "        return X\n",
    "    \n",
    "    def loss(self, X, T):\n",
    "        Y = self.predict(X)\n",
    "        return self.lastLayer.forward(Y, T)\n",
    "    \n",
    "    def gradient(self, X, T):\n",
    "        self.loss(X, T)\n",
    "\n",
    "        dout = 1\n",
    "        dout = self.lastLayer.backward()\n",
    "\n",
    "        layers_reverse = reversed(list(self.layers.values()))\n",
    "        for layer in layers_reverse:\n",
    "            dout = layer.backward(dout)\n",
    "\n",
    "        grads = {}\n",
    "        grads['W1'] = self.layers['Conv1'].dW\n",
    "        grads['b1'] = self.layers['Conv1'].db\n",
    "        grads['W2'] = self.layers['Affine1'].dW\n",
    "        grads['b2'] = self.layers['Affine1'].db\n",
    "        grads['W3'] = self.layers['Affine2'].dW\n",
    "        grads['b3'] = self.layers['Affine2'].db\n",
    "\n",
    "        return grads\n",
    "    \n",
    "    def set_x_train(self, x_train):\n",
    "        self.x_train = x_train\n",
    "    \n",
    "    def set_t_train(self, t_train):\n",
    "        self.t_train = t_train\n",
    "    \n",
    "    def train(self, total_steps=10000, learning_rate=0.1, batch_size=100):\n",
    "        train_loss_list = []\n",
    "        train_size = self.x_train.shape[0]\n",
    "        iter_per_epoch = max(train_size / batch_size, 1)\n",
    "\n",
    "        for i in range(total_steps):\n",
    "            batch_mask = np.random.choice(train_size, batch_size)\n",
    "            x_batch = self.x_train[batch_mask]\n",
    "            t_batch = self.t_train[batch_mask]\n",
    "\n",
    "            grad = self.gradient(x_batch, t_batch)\n",
    "\n",
    "            for key in grad.keys():\n",
    "                self.params[key] -= learning_rate * grad[key]\n",
    "\n",
    "            loss = self.loss(x_batch, t_batch)\n",
    "            train_loss_list.append(loss)\n",
    "            \n",
    "            # 출력은 선택\n",
    "            if i % iter_per_epoch == 0:\n",
    "                print('iteration: ', i, 'loss: ', loss)"
   ]
  },
  {
   "cell_type": "code",
   "execution_count": 13,
   "metadata": {},
   "outputs": [],
   "source": [
    "total_steps = 10000\n",
    "batch_size = 100\n",
    "learning_rate = 0.1"
   ]
  },
  {
   "cell_type": "code",
   "execution_count": 17,
   "metadata": {},
   "outputs": [
    {
     "data": {
      "text/plain": [
       "array([5, 0, 4, ..., 5, 6, 8], shape=(60000,), dtype=uint8)"
      ]
     },
     "execution_count": 17,
     "metadata": {},
     "output_type": "execute_result"
    }
   ],
   "source": [
    "(x_train, t_train), (x_test, t_test) = load_mnist(flatten=False)\n",
    "t_train"
   ]
  },
  {
   "cell_type": "code",
   "execution_count": 15,
   "metadata": {},
   "outputs": [],
   "source": [
    "cnn = SimpleCNN()\n",
    "cnn.set_x_train(x_train)\n",
    "cnn.set_t_train(t_train)"
   ]
  },
  {
   "cell_type": "code",
   "execution_count": 16,
   "metadata": {},
   "outputs": [
    {
     "ename": "ValueError",
     "evalue": "operands could not be broadcast together with shapes (100,10) (100,) ",
     "output_type": "error",
     "traceback": [
      "\u001b[0;31m---------------------------------------------------------------------------\u001b[0m",
      "\u001b[0;31mValueError\u001b[0m                                Traceback (most recent call last)",
      "Cell \u001b[0;32mIn[16], line 1\u001b[0m\n\u001b[0;32m----> 1\u001b[0m \u001b[43mcnn\u001b[49m\u001b[38;5;241;43m.\u001b[39;49m\u001b[43mtrain\u001b[49m\u001b[43m(\u001b[49m\u001b[43mtotal_steps\u001b[49m\u001b[38;5;241;43m=\u001b[39;49m\u001b[43mtotal_steps\u001b[49m\u001b[43m,\u001b[49m\u001b[43m \u001b[49m\u001b[43mlearning_rate\u001b[49m\u001b[38;5;241;43m=\u001b[39;49m\u001b[43mlearning_rate\u001b[49m\u001b[43m,\u001b[49m\u001b[43m \u001b[49m\u001b[43mbatch_size\u001b[49m\u001b[38;5;241;43m=\u001b[39;49m\u001b[43mbatch_size\u001b[49m\u001b[43m)\u001b[49m\n",
      "Cell \u001b[0;32mIn[12], line 76\u001b[0m, in \u001b[0;36mSimpleCNN.train\u001b[0;34m(self, total_steps, learning_rate, batch_size)\u001b[0m\n\u001b[1;32m     73\u001b[0m x_batch \u001b[38;5;241m=\u001b[39m \u001b[38;5;28mself\u001b[39m\u001b[38;5;241m.\u001b[39mx_train[batch_mask]\n\u001b[1;32m     74\u001b[0m t_batch \u001b[38;5;241m=\u001b[39m \u001b[38;5;28mself\u001b[39m\u001b[38;5;241m.\u001b[39mt_train[batch_mask]\n\u001b[0;32m---> 76\u001b[0m grad \u001b[38;5;241m=\u001b[39m \u001b[38;5;28;43mself\u001b[39;49m\u001b[38;5;241;43m.\u001b[39;49m\u001b[43mgradient\u001b[49m\u001b[43m(\u001b[49m\u001b[43mx_batch\u001b[49m\u001b[43m,\u001b[49m\u001b[43m \u001b[49m\u001b[43mt_batch\u001b[49m\u001b[43m)\u001b[49m\n\u001b[1;32m     78\u001b[0m \u001b[38;5;28;01mfor\u001b[39;00m key \u001b[38;5;129;01min\u001b[39;00m grad\u001b[38;5;241m.\u001b[39mkeys():\n\u001b[1;32m     79\u001b[0m     \u001b[38;5;28mself\u001b[39m\u001b[38;5;241m.\u001b[39mparams[key] \u001b[38;5;241m-\u001b[39m\u001b[38;5;241m=\u001b[39m learning_rate \u001b[38;5;241m*\u001b[39m grad[key]\n",
      "Cell \u001b[0;32mIn[12], line 44\u001b[0m, in \u001b[0;36mSimpleCNN.gradient\u001b[0;34m(self, X, T)\u001b[0m\n\u001b[1;32m     41\u001b[0m \u001b[38;5;28mself\u001b[39m\u001b[38;5;241m.\u001b[39mloss(X, T)\n\u001b[1;32m     43\u001b[0m dout \u001b[38;5;241m=\u001b[39m \u001b[38;5;241m1\u001b[39m\n\u001b[0;32m---> 44\u001b[0m dout \u001b[38;5;241m=\u001b[39m \u001b[38;5;28;43mself\u001b[39;49m\u001b[38;5;241;43m.\u001b[39;49m\u001b[43mlastLayer\u001b[49m\u001b[38;5;241;43m.\u001b[39;49m\u001b[43mbackward\u001b[49m\u001b[43m(\u001b[49m\u001b[43m)\u001b[49m\n\u001b[1;32m     46\u001b[0m layers_reverse \u001b[38;5;241m=\u001b[39m \u001b[38;5;28mreversed\u001b[39m(\u001b[38;5;28mlist\u001b[39m(\u001b[38;5;28mself\u001b[39m\u001b[38;5;241m.\u001b[39mlayers\u001b[38;5;241m.\u001b[39mvalues()))\n\u001b[1;32m     47\u001b[0m \u001b[38;5;28;01mfor\u001b[39;00m layer \u001b[38;5;129;01min\u001b[39;00m layers_reverse:\n",
      "File \u001b[0;32m~/Desktop/24_winter/WegraLee-deep-learning-from-scratch/Jun's_Practice/layers/softmax_with_loss.py:18\u001b[0m, in \u001b[0;36mSoftmaxWithLoss.backward\u001b[0;34m(self)\u001b[0m\n\u001b[1;32m     16\u001b[0m \u001b[38;5;28;01mdef\u001b[39;00m \u001b[38;5;21mbackward\u001b[39m(\u001b[38;5;28mself\u001b[39m):\n\u001b[1;32m     17\u001b[0m     batch_size \u001b[38;5;241m=\u001b[39m \u001b[38;5;28mself\u001b[39m\u001b[38;5;241m.\u001b[39mt\u001b[38;5;241m.\u001b[39mshape[\u001b[38;5;241m0\u001b[39m]\n\u001b[0;32m---> 18\u001b[0m     dx \u001b[38;5;241m=\u001b[39m (\u001b[38;5;28;43mself\u001b[39;49m\u001b[38;5;241;43m.\u001b[39;49m\u001b[43my\u001b[49m\u001b[43m \u001b[49m\u001b[38;5;241;43m-\u001b[39;49m\u001b[43m \u001b[49m\u001b[38;5;28;43mself\u001b[39;49m\u001b[38;5;241;43m.\u001b[39;49m\u001b[43mt\u001b[49m) \u001b[38;5;241m/\u001b[39m batch_size\n\u001b[1;32m     20\u001b[0m     \u001b[38;5;28;01mreturn\u001b[39;00m dx\n",
      "\u001b[0;31mValueError\u001b[0m: operands could not be broadcast together with shapes (100,10) (100,) "
     ]
    }
   ],
   "source": [
    "cnn.train(total_steps=total_steps, learning_rate=learning_rate, batch_size=batch_size)"
   ]
  },
  {
   "cell_type": "code",
   "execution_count": null,
   "metadata": {},
   "outputs": [],
   "source": []
  }
 ],
 "metadata": {
  "kernelspec": {
   "display_name": ".venv",
   "language": "python",
   "name": "python3"
  },
  "language_info": {
   "codemirror_mode": {
    "name": "ipython",
    "version": 3
   },
   "file_extension": ".py",
   "mimetype": "text/x-python",
   "name": "python",
   "nbconvert_exporter": "python",
   "pygments_lexer": "ipython3",
   "version": "3.12.6"
  }
 },
 "nbformat": 4,
 "nbformat_minor": 2
}
