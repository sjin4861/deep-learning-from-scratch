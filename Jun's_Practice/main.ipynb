{
 "cells": [
  {
   "cell_type": "code",
   "execution_count": 14,
   "metadata": {},
   "outputs": [],
   "source": [
    "from layers import *\n",
    "from utils import *"
   ]
  },
  {
   "cell_type": "code",
   "execution_count": 15,
   "metadata": {},
   "outputs": [],
   "source": [
    "from collections import OrderedDict\n",
    "import numpy as np\n",
    "from dataset import load_mnist"
   ]
  },
  {
   "cell_type": "code",
   "execution_count": 16,
   "metadata": {},
   "outputs": [],
   "source": [
    "class ThreeLayerNet:\n",
    "    def __init__(self, input_size, hidden_size, output_size, std=1e-2):\n",
    "        self.params = {}\n",
    "        self.params['W1'] = std * np.random.randn(input_size, hidden_size[0])\n",
    "        self.params['b1'] = np.zeros(hidden_size[0])\n",
    "        self.params['W2'] = std * np.random.randn(hidden_size[0], hidden_size[1])\n",
    "        self.params['b2'] = np.zeros(hidden_size[1])\n",
    "        self.params['W3'] = std * np.random.randn(hidden_size[1], output_size)\n",
    "        self.params['b3'] = np.zeros(output_size)\n",
    "\n",
    "        self.layers = OrderedDict()\n",
    "        self.layers['Affine1'] = Affine(self.params['W1'], self.params['b1'])\n",
    "        self.layers['Relu1'] = Relu()\n",
    "        self.layers['Affine2'] = Affine(self.params['W2'], self.params['b2'])\n",
    "        self.layers['Sigmoid2'] = Sigmoid()\n",
    "        self.layers['Affine3'] = Affine(self.params['W3'], self.params['b3'])\n",
    "        \n",
    "        self.lastLayer = SoftmaxWithLoss()\n",
    "\n",
    "        self.x_train = None\n",
    "        self.t_train = None\n",
    "\n",
    "    def predict(self, X):\n",
    "        for layer in self.layers.values():\n",
    "            X = layer.forward(X)\n",
    "        return X\n",
    "\n",
    "    def loss(self, X, T):\n",
    "        Y = self.predict(X)\n",
    "        Y, loss = self.lastLayer.forward(Y, T)\n",
    "        return loss\n",
    "    \n",
    "    def gradient(self, X, T):\n",
    "        loss = self.loss(X, T)\n",
    "\n",
    "        dout = 1\n",
    "        dout = self.lastLayer.backward()\n",
    "\n",
    "        layers_reverse = reversed(list(self.layers.values()))\n",
    "\n",
    "        for layer in layers_reverse:\n",
    "            dout = layer.backward(dout)\n",
    "\n",
    "        grads = {}\n",
    "        grads['W1'] = self.layers['Affine1'].dW\n",
    "        grads['b1'] = self.layers['Affine1'].db\n",
    "        grads['W2'] = self.layers['Affine2'].dW\n",
    "        grads['b2'] = self.layers['Affine2'].db\n",
    "        grads['W3'] = self.layers['Affine3'].dW\n",
    "        grads['b3'] = self.layers['Affine3'].db\n",
    "\n",
    "        return grads\n",
    "    \n",
    "    def set_x_train(self, x_train):\n",
    "        self.x_train = x_train\n",
    "    \n",
    "    def set_t_train(self, t_train):\n",
    "        self.t_train = t_train\n",
    "\n",
    "    def train(self, total_steps=10000, learning_rate=0.1, batch_size=100):\n",
    "        train_loss_list = []\n",
    "        train_size = self.x_train.shape[0]\n",
    "        iter_per_epoch = max(train_size / batch_size, 1)\n",
    "\n",
    "        for i in range(total_steps):\n",
    "            batch_mask = np.random.choice(train_size, batch_size)\n",
    "            x_batch = self.x_train[batch_mask]\n",
    "            t_batch = self.t_train[batch_mask]\n",
    "\n",
    "            grad = self.gradient(x_batch, t_batch)\n",
    "\n",
    "            for key in grad.keys():\n",
    "                self.params[key] -= learning_rate * grad[key]\n",
    "\n",
    "            loss = self.loss(x_batch, t_batch)\n",
    "            train_loss_list.append(loss)\n",
    "            \n",
    "            # 출력은 선택\n",
    "            if i % iter_per_epoch == 0:\n",
    "                print('iteration: ', i, 'loss: ', loss)"
   ]
  },
  {
   "cell_type": "code",
   "execution_count": 17,
   "metadata": {},
   "outputs": [],
   "source": [
    "(x_train, t_train), (x_test, t_test) = load_mnist(normalize=True, one_hot_label=True)\n",
    "nn = ThreeLayerNet(input_size=784, hidden_size=[100, 50], output_size=10)"
   ]
  },
  {
   "cell_type": "code",
   "execution_count": 23,
   "metadata": {},
   "outputs": [],
   "source": [
    "total_steps = 10000\n",
    "batch_size = 100\n",
    "learning_rate = 0.01\n",
    "\n",
    "nn.set_x_train(x_train)\n",
    "nn.set_t_train(t_train)"
   ]
  },
  {
   "cell_type": "code",
   "execution_count": null,
   "metadata": {},
   "outputs": [
    {
     "name": "stdout",
     "output_type": "stream",
     "text": [
      "iteration:  0 loss:  0.01344703218654704\n",
      "iteration:  600 loss:  0.15616440401706932\n",
      "iteration:  1200 loss:  0.010323745371247844\n",
      "iteration:  1800 loss:  0.009437221813866829\n",
      "iteration:  2400 loss:  0.022616833131692906\n",
      "iteration:  3000 loss:  0.07623923021737138\n",
      "iteration:  3600 loss:  0.02479571531372056\n",
      "iteration:  4200 loss:  0.012289480786286732\n",
      "iteration:  4800 loss:  0.010589621813173394\n",
      "iteration:  5400 loss:  0.008140212785947624\n",
      "iteration:  6000 loss:  0.009754762245951768\n",
      "iteration:  6600 loss:  0.017610982555187695\n",
      "iteration:  7200 loss:  0.02033651681206389\n",
      "iteration:  7800 loss:  0.014214597963067399\n",
      "iteration:  8400 loss:  0.007869395060931648\n",
      "iteration:  9000 loss:  0.006932206852750481\n",
      "iteration:  9600 loss:  0.009876768476993276\n"
     ]
    }
   ],
   "source": [
    "nn.train(total_steps=total_steps, learning_rate=learning_rate, batch_size=batch_size)"
   ]
  },
  {
   "cell_type": "code",
   "execution_count": null,
   "metadata": {},
   "outputs": [],
   "source": []
  }
 ],
 "metadata": {
  "kernelspec": {
   "display_name": ".venv",
   "language": "python",
   "name": "python3"
  },
  "language_info": {
   "codemirror_mode": {
    "name": "ipython",
    "version": 3
   },
   "file_extension": ".py",
   "mimetype": "text/x-python",
   "name": "python",
   "nbconvert_exporter": "python",
   "pygments_lexer": "ipython3",
   "version": "3.12.6"
  }
 },
 "nbformat": 4,
 "nbformat_minor": 2
}
